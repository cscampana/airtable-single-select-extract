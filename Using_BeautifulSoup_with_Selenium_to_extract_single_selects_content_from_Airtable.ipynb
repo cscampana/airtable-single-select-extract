{
  "nbformat": 4,
  "nbformat_minor": 0,
  "metadata": {
    "colab": {
      "name": "Using BeautifulSoup with Selenium to extract single selects content from Airtable.ipynb",
      "provenance": [],
      "authorship_tag": "ABX9TyMQ46oza+1X/vFyDnv2MwpF",
      "include_colab_link": true
    },
    "kernelspec": {
      "name": "python3",
      "display_name": "Python 3"
    },
    "language_info": {
      "name": "python"
    }
  },
  "cells": [
    {
      "cell_type": "markdown",
      "metadata": {
        "id": "view-in-github",
        "colab_type": "text"
      },
      "source": [
        "<a href=\"https://colab.research.google.com/github/cscampana/airtable-single-select-extract/blob/main/Using_BeautifulSoup_with_Selenium_to_extract_single_selects_content_from_Airtable.ipynb\" target=\"_parent\"><img src=\"https://colab.research.google.com/assets/colab-badge.svg\" alt=\"Open In Colab\"/></a>"
      ]
    },
    {
      "cell_type": "markdown",
      "metadata": {
        "id": "08b_yMMiB-Fw"
      },
      "source": [
        "# Using BeautifulSoup with Selenium to extract single selects content from Airtable\n",
        "\n",
        "We use Selenium with BeautifulSoup to extract all items in single selects within an Airtable form and print them in the console.\n",
        "\n",
        "The element class is flex-auto truncate-pre for all lists.\n"
      ]
    },
    {
      "cell_type": "code",
      "metadata": {
        "id": "vZooN2y45uqB"
      },
      "source": [
        "from bs4 import BeautifulSoup\n",
        "from selenium import webdriver\n",
        "import requests\n",
        "import sys"
      ],
      "execution_count": 1,
      "outputs": []
    },
    {
      "cell_type": "code",
      "metadata": {
        "id": "AsHQV22i8dO5"
      },
      "source": [
        "#Dependency install\n",
        "%%capture\n",
        "!pip install selenium\n",
        "!apt-get update # to update ubuntu to correctly run apt install\n",
        "!apt install chromium-chromedriver\n",
        "!cp /usr/lib/chromium-browser/chromedriver /usr/bin\n",
        "sys.path.insert(0,'/usr/lib/chromium-browser/chromedriver')\n",
        "\n",
        "# Chrome configuration\n",
        "chrome_options = webdriver.ChromeOptions()\n",
        "chrome_options.add_argument('--headless')\n",
        "chrome_options.add_argument('--no-sandbox')\n",
        "chrome_options.add_argument('--disable-dev-shm-usage')\n",
        "wd = webdriver.Chrome('chromedriver',chrome_options=chrome_options)"
      ],
      "execution_count": 2,
      "outputs": []
    },
    {
      "cell_type": "markdown",
      "metadata": {
        "id": "Z8KDioawB1m1"
      },
      "source": [
        "Input the complete URL of the form in the following box:"
      ]
    },
    {
      "cell_type": "code",
      "metadata": {
        "colab": {
          "base_uri": "https://localhost:8080/"
        },
        "id": "jNEAuc8dB2y_",
        "outputId": "82db61c8-c1f5-42b1-e8da-7a5c0112d9d1"
      },
      "source": [
        "url = input(\"Complete url of the form: \")"
      ],
      "execution_count": 3,
      "outputs": [
        {
          "name": "stdout",
          "output_type": "stream",
          "text": [
            "Complete url of the form: https://airtable.com/shreXK8KR59OGRC1M\n"
          ]
        }
      ]
    },
    {
      "cell_type": "code",
      "metadata": {
        "colab": {
          "base_uri": "https://localhost:8080/"
        },
        "id": "gRyd9nxN6QE2",
        "outputId": "8934910a-cfa6-4788-ff3f-acb48c3d0b9d"
      },
      "source": [
        "# Url content retrieve and parser.\n",
        "wd.get(url)\n",
        "html = wd.page_source\n",
        "soup = BeautifulSoup(html, 'html.parser')\n",
        "colleges = soup.find_all(class_=\"flex-auto truncate-pre\", text=True)\n",
        "# Output\n",
        "for div in colleges:\n",
        "  print(div.text)"
      ],
      "execution_count": 4,
      "outputs": [
        {
          "output_type": "stream",
          "name": "stdout",
          "text": [
            "American Indian or Alaska Native\n",
            "Asian\n",
            "Black or Africa-American\n",
            "Hispanic or Latinx\n",
            "Native Hawaiian  or other Pacific islander\n",
            "White\n",
            "Other\n",
            "Prefer not to disclose\n",
            "A military veteran\n",
            "A person living with a disability\n",
            "An immigrant\n",
            "A refugee\n",
            "I do not identify\n",
            "Prefer not to disclose\n",
            "Lightweight\n",
            "Heavyweight\n",
            "Yes\n",
            "No\n"
          ]
        }
      ]
    }
  ]
}